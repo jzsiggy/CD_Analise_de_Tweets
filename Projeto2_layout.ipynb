{
 "cells": [
  {
   "cell_type": "markdown",
   "metadata": {},
   "source": [
    "# Projeto 2 - Ciência dos Dados"
   ]
  },
  {
   "cell_type": "markdown",
   "metadata": {},
   "source": [
    "Nome: André Nadalini\n",
    "\n",
    "Nome: João Zsigmond"
   ]
  },
  {
   "cell_type": "markdown",
   "metadata": {},
   "source": [
    "Serão permitidos grupos de três pessoas, mas com uma rubrica mais exigente. Grupos deste tamanho precisarão fazer um questionário de avaliação de trabalho em equipe"
   ]
  },
  {
   "cell_type": "markdown",
   "metadata": {},
   "source": [
    "___\n",
    "# Classificador automático de sentimento\n"
   ]
  },
  {
   "cell_type": "markdown",
   "metadata": {},
   "source": [
    "## Preparando o ambiente no jupyter:"
   ]
  },
  {
   "cell_type": "code",
   "execution_count": null,
   "metadata": {},
   "outputs": [],
   "source": [
    "%%capture\n",
    "\n",
    "#Instalando o tweepy"
   ]
  },
  {
   "cell_type": "code",
   "execution_count": 25,
   "metadata": {
    "jupyter": {
     "outputs_hidden": true
    }
   },
   "outputs": [],
   "source": [
    "# import tweepy\n",
    "import math\n",
    "import os.path\n",
    "import pandas as pd\n",
    "import json\n",
    "from random import shuffle\n",
    "from random import randint\n",
    "import re"
   ]
  },
  {
   "cell_type": "markdown",
   "metadata": {},
   "source": [
    "___\n",
    "## Autenticando no  Twitter\n",
    "\n",
    "* Conta: ***[Preencha aqui o id da sua conta. Ex: @fulano ]***"
   ]
  },
  {
   "cell_type": "code",
   "execution_count": null,
   "metadata": {
    "jupyter": {
     "outputs_hidden": true
    }
   },
   "outputs": [],
   "source": [
    "#Dados de autenticação do twitter:\n",
    "\n",
    "#Coloque aqui o identificador da conta no twitter: @fulano\n",
    "\n",
    "#leitura do arquivo no formato JSON\n",
    "with open('auth.pass') as fp:    \n",
    "    data = json.load(fp)\n",
    "\n",
    "#Configurando a biblioteca. Não modificar\n",
    "auth = tweepy.OAuthHandler(data['consumer_key'], data['consumer_secret'])\n",
    "auth.set_access_token(data['access_token'], data['access_token_secret'])"
   ]
  },
  {
   "cell_type": "markdown",
   "metadata": {},
   "source": [
    "___\n",
    "## Etapas do projeto:"
   ]
  },
  {
   "cell_type": "markdown",
   "metadata": {},
   "source": [
    "### Escolha de um produto e coleta das mensagens\n"
   ]
  },
  {
   "cell_type": "code",
   "execution_count": null,
   "metadata": {
    "jupyter": {
     "outputs_hidden": true
    }
   },
   "outputs": [],
   "source": [
    "#Produto escolhido:\n",
    "produto = 'Johnny Depp'\n",
    "\n",
    "#Quantidade mínima de mensagens capturadas:\n",
    "n = 500\n",
    "#Quantidade mínima de mensagens para a base de treinamento:\n",
    "t = 300\n",
    "\n",
    "#Filtro de língua, escolha uma na tabela ISO 639-1.\n",
    "lang = 'pt'"
   ]
  },
  {
   "cell_type": "markdown",
   "metadata": {},
   "source": [
    "Capturando os dados do twitter:"
   ]
  },
  {
   "cell_type": "code",
   "execution_count": null,
   "metadata": {
    "jupyter": {
     "outputs_hidden": true
    }
   },
   "outputs": [],
   "source": [
    "#Cria um objeto para a captura\n",
    "api = tweepy.API(auth)\n",
    "\n",
    "#Inicia a captura, para mais detalhes: ver a documentação do tweepy\n",
    "i = 1\n",
    "msgs = []\n",
    "for msg in tweepy.Cursor(api.search, q=produto, lang=lang, tweet_mode=\"extended\").items():    \n",
    "    msgs.append(msg.full_text.lower())\n",
    "    i += 1\n",
    "    if i > n:\n",
    "        break\n",
    "\n",
    "#Embaralhando as mensagens para reduzir um possível viés\n",
    "shuffle(msgs)"
   ]
  },
  {
   "cell_type": "markdown",
   "metadata": {},
   "source": [
    "Salvando os dados em uma planilha Excel:"
   ]
  },
  {
   "cell_type": "code",
   "execution_count": null,
   "metadata": {
    "jupyter": {
     "outputs_hidden": true
    }
   },
   "outputs": [],
   "source": [
    "#Verifica se o arquivo não existe para não substituir um conjunto pronto\n",
    "if not os.path.isfile('./{0}.xlsx'.format(produto)):\n",
    "    \n",
    "    #Abre o arquivo para escrita\n",
    "    writer = pd.ExcelWriter('{0}.xlsx'.format(produto))\n",
    "\n",
    "    #divide o conjunto de mensagens em duas planilhas\n",
    "    dft = pd.DataFrame({'Treinamento' : pd.Series(msgs[:t])})\n",
    "    dft.to_excel(excel_writer = writer, sheet_name = 'Treinamento', index = False)\n",
    "\n",
    "    dfc = pd.DataFrame({'Teste' : pd.Series(msgs[t:])})\n",
    "    dfc.to_excel(excel_writer = writer, sheet_name = 'Teste', index = False)\n",
    "\n",
    "    #fecha o arquivo\n",
    "    writer.save()"
   ]
  },
  {
   "cell_type": "markdown",
   "metadata": {},
   "source": [
    "___\n",
    "### Classificando as mensagens na coragem\n",
    "\n",
    "Esta etapa é manual. Faça a mesma pelo Excel."
   ]
  },
  {
   "cell_type": "code",
   "execution_count": 26,
   "metadata": {},
   "outputs": [],
   "source": [
    "data = pd.read_excel(\"apple.xlsx\")"
   ]
  },
  {
   "cell_type": "markdown",
   "metadata": {},
   "source": [
    "___\n",
    "### Montando o Classificador Naive-Bayes\n",
    "\n",
    "Considerando apenas as mensagens da planilha Treinamento, ensine  seu classificador."
   ]
  },
  {
   "cell_type": "code",
   "execution_count": 27,
   "metadata": {},
   "outputs": [],
   "source": [
    "data.rename(columns={'Unnamed: 1': 'Relevância'}, inplace=True)"
   ]
  },
  {
   "cell_type": "markdown",
   "metadata": {},
   "source": [
    "Comecamos limpando a base de dados. Removemos símbolos, pontuações, e characteres que não são imprimiveis (tab, quebras de linha, return, etc)"
   ]
  },
  {
   "cell_type": "code",
   "execution_count": 28,
   "metadata": {},
   "outputs": [],
   "source": [
    "index = 0\n",
    "\n",
    "clean_data = []\n",
    "\n",
    "for tweet, r in zip(data['Treinamento'], data[\"Relevância\"]):\n",
    "    raw_data = tweet.split()\n",
    "    clean_tweet = []\n",
    "    for word in raw_data:\n",
    "        if not word.startswith('http'):\n",
    "            clean_word = re.sub('[\\n:;,\\'\\\")(@#]+', '', word)\n",
    "            clean_tweet.append(clean_word)\n",
    "    clean_tweet = \" \".join(clean_tweet)\n",
    "    clean_data.append([clean_tweet, r])\n",
    "    "
   ]
  },
  {
   "cell_type": "code",
   "execution_count": 29,
   "metadata": {},
   "outputs": [],
   "source": [
    "data_clean = pd.DataFrame(clean_data, columns=list(\"TR\"))"
   ]
  },
  {
   "cell_type": "code",
   "execution_count": 30,
   "metadata": {},
   "outputs": [
    {
     "data": {
      "text/html": [
       "<div>\n",
       "<style scoped>\n",
       "    .dataframe tbody tr th:only-of-type {\n",
       "        vertical-align: middle;\n",
       "    }\n",
       "\n",
       "    .dataframe tbody tr th {\n",
       "        vertical-align: top;\n",
       "    }\n",
       "\n",
       "    .dataframe thead th {\n",
       "        text-align: right;\n",
       "    }\n",
       "</style>\n",
       "<table border=\"1\" class=\"dataframe\">\n",
       "  <thead>\n",
       "    <tr style=\"text-align: right;\">\n",
       "      <th></th>\n",
       "      <th>T</th>\n",
       "      <th>R</th>\n",
       "    </tr>\n",
       "  </thead>\n",
       "  <tbody>\n",
       "    <tr>\n",
       "      <th>0</th>\n",
       "      <td>deixei os fones da apple no hostel</td>\n",
       "      <td>1</td>\n",
       "    </tr>\n",
       "    <tr>\n",
       "      <th>1</th>\n",
       "      <td>apple eu to sedentaaaa appleevent</td>\n",
       "      <td>2</td>\n",
       "    </tr>\n",
       "    <tr>\n",
       "      <th>2</th>\n",
       "      <td>mcfly anunciou hj retorno e show em londres di...</td>\n",
       "      <td>2</td>\n",
       "    </tr>\n",
       "    <tr>\n",
       "      <th>3</th>\n",
       "      <td>a samsung interagindo nos tweets da apple kkkk...</td>\n",
       "      <td>1</td>\n",
       "    </tr>\n",
       "    <tr>\n",
       "      <th>4</th>\n",
       "      <td>bom dia 🙏🙏🙏</td>\n",
       "      <td>0</td>\n",
       "    </tr>\n",
       "    <tr>\n",
       "      <th>5</th>\n",
       "      <td>apple_juice53 meu trauma com drama romântico é...</td>\n",
       "      <td>0</td>\n",
       "    </tr>\n",
       "    <tr>\n",
       "      <th>6</th>\n",
       "      <td>pamella favor passar reto</td>\n",
       "      <td>0</td>\n",
       "    </tr>\n",
       "    <tr>\n",
       "      <th>7</th>\n",
       "      <td>yl0han du26avella o skeletonr6s tinha comprado...</td>\n",
       "      <td>2</td>\n",
       "    </tr>\n",
       "    <tr>\n",
       "      <th>8</th>\n",
       "      <td>altamente recomendado...</td>\n",
       "      <td>0</td>\n",
       "    </tr>\n",
       "    <tr>\n",
       "      <th>9</th>\n",
       "      <td>em meio a queda mundial na venda de celulares ...</td>\n",
       "      <td>2</td>\n",
       "    </tr>\n",
       "    <tr>\n",
       "      <th>10</th>\n",
       "      <td>twitter for iphone nao odiava a apple</td>\n",
       "      <td>0</td>\n",
       "    </tr>\n",
       "    <tr>\n",
       "      <th>11</th>\n",
       "      <td>todo mundo esperando as câmeras estranhas no a...</td>\n",
       "      <td>2</td>\n",
       "    </tr>\n",
       "    <tr>\n",
       "      <th>12</th>\n",
       "      <td>siteptbr a pt apple fã tem que acabar</td>\n",
       "      <td>1</td>\n",
       "    </tr>\n",
       "    <tr>\n",
       "      <th>13</th>\n",
       "      <td>promoção grandes descontos em 40 apps para mac...</td>\n",
       "      <td>2</td>\n",
       "    </tr>\n",
       "    <tr>\n",
       "      <th>14</th>\n",
       "      <td>caralho chorei</td>\n",
       "      <td>0</td>\n",
       "    </tr>\n",
       "    <tr>\n",
       "      <th>15</th>\n",
       "      <td>siteptbr samsung rainha. apple nadinha.</td>\n",
       "      <td>1</td>\n",
       "    </tr>\n",
       "    <tr>\n",
       "      <th>16</th>\n",
       "      <td>lptato eu levo o de apple ta ok</td>\n",
       "      <td>0</td>\n",
       "    </tr>\n",
       "    <tr>\n",
       "      <th>17</th>\n",
       "      <td>o aleatório tá querendo acabar com a minha vid...</td>\n",
       "      <td>0</td>\n",
       "    </tr>\n",
       "    <tr>\n",
       "      <th>18</th>\n",
       "      <td>descobrindo aqui nos trends que amanha tem lan...</td>\n",
       "      <td>1</td>\n",
       "    </tr>\n",
       "    <tr>\n",
       "      <th>19</th>\n",
       "      <td>ruannsa ave maria eu ainda to tentando arranja...</td>\n",
       "      <td>1</td>\n",
       "    </tr>\n",
       "    <tr>\n",
       "      <th>20</th>\n",
       "      <td>hoje tem o novo iphone ne eai apple qual inova...</td>\n",
       "      <td>2</td>\n",
       "    </tr>\n",
       "    <tr>\n",
       "      <th>21</th>\n",
       "      <td>mvcmendes vai ter cobertura do loop do evento ...</td>\n",
       "      <td>1</td>\n",
       "    </tr>\n",
       "    <tr>\n",
       "      <th>22</th>\n",
       "      <td>hoje a apple vai lancar o iphone 11 good luck ...</td>\n",
       "      <td>1</td>\n",
       "    </tr>\n",
       "    <tr>\n",
       "      <th>23</th>\n",
       "      <td>veru_twt gcfmarte pq ele começa a travar muito...</td>\n",
       "      <td>2</td>\n",
       "    </tr>\n",
       "    <tr>\n",
       "      <th>24</th>\n",
       "      <td>evento da apple hoje</td>\n",
       "      <td>1</td>\n",
       "    </tr>\n",
       "    <tr>\n",
       "      <th>25</th>\n",
       "      <td>lembrei que hoje tem evento da apple grande di...</td>\n",
       "      <td>1</td>\n",
       "    </tr>\n",
       "    <tr>\n",
       "      <th>26</th>\n",
       "      <td>gremargus os dois. desenvolver pra apple com i...</td>\n",
       "      <td>1</td>\n",
       "    </tr>\n",
       "    <tr>\n",
       "      <th>27</th>\n",
       "      <td>quem já estou ansioso por mais um evento de la...</td>\n",
       "      <td>2</td>\n",
       "    </tr>\n",
       "    <tr>\n",
       "      <th>28</th>\n",
       "      <td>olá! você já passou no meu canal sobre apple e...</td>\n",
       "      <td>1</td>\n",
       "    </tr>\n",
       "    <tr>\n",
       "      <th>29</th>\n",
       "      <td>hoje tem o evento da apple né?</td>\n",
       "      <td>1</td>\n",
       "    </tr>\n",
       "    <tr>\n",
       "      <th>...</th>\n",
       "      <td>...</td>\n",
       "      <td>...</td>\n",
       "    </tr>\n",
       "    <tr>\n",
       "      <th>470</th>\n",
       "      <td>segue essa</td>\n",
       "      <td>0</td>\n",
       "    </tr>\n",
       "    <tr>\n",
       "      <th>471</th>\n",
       "      <td>uma vez um sabio disse</td>\n",
       "      <td>0</td>\n",
       "    </tr>\n",
       "    <tr>\n",
       "      <th>472</th>\n",
       "      <td>🎧 romanticise | chela</td>\n",
       "      <td>0</td>\n",
       "    </tr>\n",
       "    <tr>\n",
       "      <th>473</th>\n",
       "      <td>meu pai a dor de cabeça charli eu tô doente</td>\n",
       "      <td>0</td>\n",
       "    </tr>\n",
       "    <tr>\n",
       "      <th>474</th>\n",
       "      <td>isgotario menino eu jurava que era mentira pqp...</td>\n",
       "      <td>1</td>\n",
       "    </tr>\n",
       "    <tr>\n",
       "      <th>475</th>\n",
       "      <td>a única eletrônica possível</td>\n",
       "      <td>0</td>\n",
       "    </tr>\n",
       "    <tr>\n",
       "      <th>476</th>\n",
       "      <td>se esses novos iphone e apple watch for bom vo...</td>\n",
       "      <td>1</td>\n",
       "    </tr>\n",
       "    <tr>\n",
       "      <th>477</th>\n",
       "      <td>kk como sempre</td>\n",
       "      <td>0</td>\n",
       "    </tr>\n",
       "    <tr>\n",
       "      <th>478</th>\n",
       "      <td>só queria assistir uma série antes de dormir p...</td>\n",
       "      <td>2</td>\n",
       "    </tr>\n",
       "    <tr>\n",
       "      <th>479</th>\n",
       "      <td>depois de 1 mês usando apple music decidi que ...</td>\n",
       "      <td>2</td>\n",
       "    </tr>\n",
       "    <tr>\n",
       "      <th>480</th>\n",
       "      <td>apple obrigada 😍</td>\n",
       "      <td>1</td>\n",
       "    </tr>\n",
       "    <tr>\n",
       "      <th>481</th>\n",
       "      <td>colorsloukamaa não tem em nenhum ainda mo no v...</td>\n",
       "      <td>1</td>\n",
       "    </tr>\n",
       "    <tr>\n",
       "      <th>482</th>\n",
       "      <td>hoje as 1400h será o evento anual da apple no ...</td>\n",
       "      <td>1</td>\n",
       "    </tr>\n",
       "    <tr>\n",
       "      <th>483</th>\n",
       "      <td>apple meu próximo celular não será apple 💪🏻</td>\n",
       "      <td>2</td>\n",
       "    </tr>\n",
       "    <tr>\n",
       "      <th>484</th>\n",
       "      <td>apple pode ter onda de troca de iphones após l...</td>\n",
       "      <td>1</td>\n",
       "    </tr>\n",
       "    <tr>\n",
       "      <th>485</th>\n",
       "      <td>novo iphone quais são as possíveis novidades d...</td>\n",
       "      <td>1</td>\n",
       "    </tr>\n",
       "    <tr>\n",
       "      <th>486</th>\n",
       "      <td>hoje tem coletiva da apple  atento para ver os...</td>\n",
       "      <td>1</td>\n",
       "    </tr>\n",
       "    <tr>\n",
       "      <th>487</th>\n",
       "      <td>todo dia eu agradeço pelo existencia dessa aquih</td>\n",
       "      <td>0</td>\n",
       "    </tr>\n",
       "    <tr>\n",
       "      <th>488</th>\n",
       "      <td>apple whatch é foda mas um rolex um invicta é ...</td>\n",
       "      <td>1</td>\n",
       "    </tr>\n",
       "    <tr>\n",
       "      <th>489</th>\n",
       "      <td>apple aqui e galaxy man</td>\n",
       "      <td>2</td>\n",
       "    </tr>\n",
       "    <tr>\n",
       "      <th>490</th>\n",
       "      <td>mds o stive jobs deve querer voltar pra da na ...</td>\n",
       "      <td>1</td>\n",
       "    </tr>\n",
       "    <tr>\n",
       "      <th>491</th>\n",
       "      <td>vou performar essa no banho com direito a grav...</td>\n",
       "      <td>0</td>\n",
       "    </tr>\n",
       "    <tr>\n",
       "      <th>492</th>\n",
       "      <td>macon inicia operações para o congo kinshasa</td>\n",
       "      <td>0</td>\n",
       "    </tr>\n",
       "    <tr>\n",
       "      <th>493</th>\n",
       "      <td>essa musica foi 1 ?</td>\n",
       "      <td>0</td>\n",
       "    </tr>\n",
       "    <tr>\n",
       "      <th>494</th>\n",
       "      <td>chris_tyellen instagram nem o meu mas entro em...</td>\n",
       "      <td>2</td>\n",
       "    </tr>\n",
       "    <tr>\n",
       "      <th>495</th>\n",
       "      <td>🧘‍♀️ meditação 🧘‍♀️ recomendação de aplicativo...</td>\n",
       "      <td>0</td>\n",
       "    </tr>\n",
       "    <tr>\n",
       "      <th>496</th>\n",
       "      <td>apple vai anunciar o iphone 11 amanha e eu ain...</td>\n",
       "      <td>1</td>\n",
       "    </tr>\n",
       "    <tr>\n",
       "      <th>497</th>\n",
       "      <td>__luwalhati laos na apple hahaha char</td>\n",
       "      <td>0</td>\n",
       "    </tr>\n",
       "    <tr>\n",
       "      <th>498</th>\n",
       "      <td>luizmarbalves apesar do medo eu to com expecta...</td>\n",
       "      <td>2</td>\n",
       "    </tr>\n",
       "    <tr>\n",
       "      <th>499</th>\n",
       "      <td>pelo menos agora meu apple music é estudantil ...</td>\n",
       "      <td>1</td>\n",
       "    </tr>\n",
       "  </tbody>\n",
       "</table>\n",
       "<p>500 rows × 2 columns</p>\n",
       "</div>"
      ],
      "text/plain": [
       "                                                     T  R\n",
       "0                  deixei os fones da apple no hostel   1\n",
       "1                    apple eu to sedentaaaa appleevent  2\n",
       "2    mcfly anunciou hj retorno e show em londres di...  2\n",
       "3    a samsung interagindo nos tweets da apple kkkk...  1\n",
       "4                                          bom dia 🙏🙏🙏  0\n",
       "5    apple_juice53 meu trauma com drama romântico é...  0\n",
       "6                            pamella favor passar reto  0\n",
       "7    yl0han du26avella o skeletonr6s tinha comprado...  2\n",
       "8                             altamente recomendado...  0\n",
       "9    em meio a queda mundial na venda de celulares ...  2\n",
       "10               twitter for iphone nao odiava a apple  0\n",
       "11   todo mundo esperando as câmeras estranhas no a...  2\n",
       "12               siteptbr a pt apple fã tem que acabar  1\n",
       "13   promoção grandes descontos em 40 apps para mac...  2\n",
       "14                                      caralho chorei  0\n",
       "15             siteptbr samsung rainha. apple nadinha.  1\n",
       "16                     lptato eu levo o de apple ta ok  0\n",
       "17   o aleatório tá querendo acabar com a minha vid...  0\n",
       "18   descobrindo aqui nos trends que amanha tem lan...  1\n",
       "19   ruannsa ave maria eu ainda to tentando arranja...  1\n",
       "20   hoje tem o novo iphone ne eai apple qual inova...  2\n",
       "21   mvcmendes vai ter cobertura do loop do evento ...  1\n",
       "22   hoje a apple vai lancar o iphone 11 good luck ...  1\n",
       "23   veru_twt gcfmarte pq ele começa a travar muito...  2\n",
       "24                                evento da apple hoje  1\n",
       "25   lembrei que hoje tem evento da apple grande di...  1\n",
       "26   gremargus os dois. desenvolver pra apple com i...  1\n",
       "27   quem já estou ansioso por mais um evento de la...  2\n",
       "28   olá! você já passou no meu canal sobre apple e...  1\n",
       "29                      hoje tem o evento da apple né?  1\n",
       "..                                                 ... ..\n",
       "470                                         segue essa  0\n",
       "471                             uma vez um sabio disse  0\n",
       "472                              🎧 romanticise | chela  0\n",
       "473        meu pai a dor de cabeça charli eu tô doente  0\n",
       "474  isgotario menino eu jurava que era mentira pqp...  1\n",
       "475                        a única eletrônica possível  0\n",
       "476  se esses novos iphone e apple watch for bom vo...  1\n",
       "477                                     kk como sempre  0\n",
       "478  só queria assistir uma série antes de dormir p...  2\n",
       "479  depois de 1 mês usando apple music decidi que ...  2\n",
       "480                                   apple obrigada 😍  1\n",
       "481  colorsloukamaa não tem em nenhum ainda mo no v...  1\n",
       "482  hoje as 1400h será o evento anual da apple no ...  1\n",
       "483        apple meu próximo celular não será apple 💪🏻  2\n",
       "484  apple pode ter onda de troca de iphones após l...  1\n",
       "485  novo iphone quais são as possíveis novidades d...  1\n",
       "486  hoje tem coletiva da apple  atento para ver os...  1\n",
       "487   todo dia eu agradeço pelo existencia dessa aquih  0\n",
       "488  apple whatch é foda mas um rolex um invicta é ...  1\n",
       "489                            apple aqui e galaxy man  2\n",
       "490  mds o stive jobs deve querer voltar pra da na ...  1\n",
       "491  vou performar essa no banho com direito a grav...  0\n",
       "492       macon inicia operações para o congo kinshasa  0\n",
       "493                                essa musica foi 1 ?  0\n",
       "494  chris_tyellen instagram nem o meu mas entro em...  2\n",
       "495  🧘‍♀️ meditação 🧘‍♀️ recomendação de aplicativo...  0\n",
       "496  apple vai anunciar o iphone 11 amanha e eu ain...  1\n",
       "497              __luwalhati laos na apple hahaha char  0\n",
       "498  luizmarbalves apesar do medo eu to com expecta...  2\n",
       "499  pelo menos agora meu apple music é estudantil ...  1\n",
       "\n",
       "[500 rows x 2 columns]"
      ]
     },
     "execution_count": 30,
     "metadata": {},
     "output_type": "execute_result"
    }
   ],
   "source": [
    "data_clean"
   ]
  },
  {
   "cell_type": "code",
   "execution_count": 31,
   "metadata": {},
   "outputs": [],
   "source": [
    "irrelevante = data_clean[data_clean.R == 0]\n",
    "pouco_relevante = data_clean[data_clean.R == 1]\n",
    "relevante = data_clean[data_clean.R == 2]"
   ]
  },
  {
   "cell_type": "code",
   "execution_count": 32,
   "metadata": {},
   "outputs": [
    {
     "name": "stdout",
     "output_type": "stream",
     "text": [
      "N:  8035\n",
      "d:  2473\n"
     ]
    }
   ],
   "source": [
    "palavras_sem_repeticao = set()\n",
    "palavras_repetidas = []\n",
    "\n",
    "for tweet in data_clean[\"T\"]:\n",
    "    for word in tweet.split():\n",
    "        palavras_sem_repeticao.add(word)\n",
    "        palavras_repetidas.append(word)\n",
    "N=len(palavras_repetidas)\n",
    "d=len(palavras_sem_repeticao)\n",
    "print('N: ', N)\n",
    "print('d: ',d)"
   ]
  },
  {
   "cell_type": "code",
   "execution_count": 33,
   "metadata": {},
   "outputs": [],
   "source": [
    "total_irrelevante = len(irrelevante)\n",
    "total_relevante = len(relevante)\n",
    "total_pouco_relevante = len(pouco_relevante)"
   ]
  },
  {
   "cell_type": "code",
   "execution_count": 34,
   "metadata": {},
   "outputs": [
    {
     "name": "stdout",
     "output_type": "stream",
     "text": [
      "The number of irrelevant tweets is 132\n",
      "The number of little relevant tweets is 225\n",
      "The number of relevant tweets is 143\n"
     ]
    }
   ],
   "source": [
    "print(\"The number of irrelevant tweets is {}\".format(total_irrelevante))\n",
    "print(\"The number of little relevant tweets is {}\".format(total_pouco_relevante))\n",
    "print(\"The number of relevant tweets is {}\".format(total_relevante))"
   ]
  },
  {
   "cell_type": "code",
   "execution_count": 35,
   "metadata": {},
   "outputs": [],
   "source": [
    "def get_series_from_df(df):\n",
    "    arr = []\n",
    "    for tweet in df[\"T\"]:\n",
    "        for word in tweet.split():\n",
    "            arr.append(word)\n",
    "    s = pd.Series(arr)\n",
    "    return s\n",
    "            \n",
    "palavras_irrelevantes = get_series_from_df(irrelevante)\n",
    "palavras_pouco_relevantes = get_series_from_df(pouco_relevante)\n",
    "palavras_relevantes = get_series_from_df(relevante)"
   ]
  },
  {
   "cell_type": "code",
   "execution_count": 36,
   "metadata": {},
   "outputs": [],
   "source": [
    "prob_ppr = palavras_pouco_relevantes.value_counts(True)\n",
    "prob_pi = palavras_irrelevantes.value_counts(True)\n",
    "prob_pr = palavras_relevantes.value_counts(True)"
   ]
  },
  {
   "cell_type": "markdown",
   "metadata": {},
   "source": [
    "# Funcionamento do algoritimo de Naïve-Bayes"
   ]
  },
  {
   "cell_type": "markdown",
   "metadata": {},
   "source": [
    "O funcionamento do algoritimo de Naïve - Bayes consiste em determinar qual é a probabilidade de uma palavra fazer parte de certo grupo (relevante, irrelevante, etc) e multiplicar todas essas probabilidades para cada palavra na frase (Tweet).\n",
    "\n",
    "\n",
    "Ou seja:\n",
    "\n",
    "$P(tweet|R) = \n",
    "P(Eu|R).P(gosto|R).P(muito|R).P(da|R).P(apple|R).P(e|R).P(quero|R).P(comprar|R).P(um|R).P(Iphone|R)$\n",
    "\n",
    "\n",
    "Vamos denotar $Tweets relevantes$ simplesmente como $R$, para encurtar a fórmula\n",
    "\n",
    "\n",
    "\n",
    "\n",
    "A fórmula completa fica então:\n",
    "\n",
    "$P(R|Tweet) = \\frac{P(Eu|R).P(gosto|R).P(muito|R).P(da|R).P(apple|R).P(e|R).P(quero|R).P(comprar|R).P(um|R).P(Iphone|R).P(R)}{P(Tweet)}$\n",
    "\n"
   ]
  },
  {
   "cell_type": "markdown",
   "metadata": {},
   "source": [
    "# Smoothing de LaPlace\n",
    "    O smoothing de Laplace é uma técnica usada para manter coerência no algoritimo, mesmo lidando com palavras que não aparecem na base de dados de treinamento. Sem o uso de smoothing, frases com palavras que não aparecem no banco de treinamento de certa categoria, certamente não serão classificadas em tal categoria. Isso prejudica a análise pois muitas vezes, frases podem ser de uma categoria mesmo tendo palavras novas, não antes vistas no treinamento dessa categoria."
   ]
  },
  {
   "cell_type": "code",
   "execution_count": 37,
   "metadata": {},
   "outputs": [],
   "source": [
    "def prob_da_origem_da_frase_ser_ppr(tweet):\n",
    "    prob_total = 1\n",
    "    for word in tweet.split():\n",
    "        if word not in palavras_pouco_relevantes.tolist():\n",
    "            prob_total*=(1/((len(palavras_pouco_relevantes)+d+1)))\n",
    "        else:\n",
    "            prob_total*=prob_ppr[word]\n",
    "    return prob_total * total_pouco_relevante / 500"
   ]
  },
  {
   "cell_type": "code",
   "execution_count": 38,
   "metadata": {},
   "outputs": [],
   "source": [
    "def prob_da_origem_da_frase_ser_pr(tweet):\n",
    "    prob_total = 1\n",
    "    for word in tweet.split():\n",
    "        if word not in palavras_relevantes.tolist():\n",
    "            prob_total*=(1/((len(palavras_relevantes)+d+1)))\n",
    "        else:\n",
    "            prob_total*=prob_pr[word]\n",
    "    return prob_total * total_relevante / 500"
   ]
  },
  {
   "cell_type": "code",
   "execution_count": 39,
   "metadata": {},
   "outputs": [],
   "source": [
    "def prob_da_origem_da_frase_ser_pi(tweet):\n",
    "    prob_total = 1\n",
    "    for word in tweet.split():\n",
    "        if word not in palavras_irrelevantes.tolist():\n",
    "            prob_total*=(1/(len(palavras_irrelevantes)+d+1))\n",
    "        else:\n",
    "            prob_total*=prob_pi[word]\n",
    "    return prob_total * total_irrelevante / 500"
   ]
  },
  {
   "cell_type": "code",
   "execution_count": 40,
   "metadata": {},
   "outputs": [],
   "source": [
    "def origem_do_tweet(tweet):\n",
    "    origem_ppr = prob_da_origem_da_frase_ser_ppr(tweet)\n",
    "    origem_pr = prob_da_origem_da_frase_ser_pr(tweet)\n",
    "    origem_pi = prob_da_origem_da_frase_ser_pi(tweet)\n",
    "    \n",
    "    if origem_ppr > origem_pr and origem_ppr > origem_pi:\n",
    "        return(1)\n",
    "    elif origem_pr > origem_ppr and origem_pr > origem_pi:\n",
    "        return(2)\n",
    "    else:\n",
    "        return(0)\n",
    "    "
   ]
  },
  {
   "cell_type": "markdown",
   "metadata": {},
   "source": [
    "___\n",
    "### Verificando a performance\n",
    "\n",
    "Agora você deve testar o seu classificador com a base de Testes."
   ]
  },
  {
   "cell_type": "code",
   "execution_count": 41,
   "metadata": {},
   "outputs": [],
   "source": [
    "teste = pd.read_excel(\"apple.xlsx\", sheet_name=\"Teste\")"
   ]
  },
  {
   "cell_type": "code",
   "execution_count": 42,
   "metadata": {},
   "outputs": [],
   "source": [
    "teste[\"performance\"] = 0\n",
    "def seed_performance(df):\n",
    "    for i in range(len(df)):\n",
    "        df.loc[i, \"performance\"] = origem_do_tweet(df.Teste[i])\n",
    "    return df"
   ]
  },
  {
   "cell_type": "code",
   "execution_count": 43,
   "metadata": {},
   "outputs": [],
   "source": [
    "seed_performance(teste).rename(columns={\"Unnamed: 1\" : \"Classificados na Mão\", \"performance\" : \"Classificador\"}).to_excel(\"Classification.xlsx\")"
   ]
  },
  {
   "cell_type": "code",
   "execution_count": 44,
   "metadata": {},
   "outputs": [],
   "source": [
    "def get_performance(df):\n",
    "    relevante_verdadeiro = 0\n",
    "    relevante_falso = 0\n",
    "    pouco_relevante_verdadeiro = 0\n",
    "    pouco_relevante_falso = 0\n",
    "    irrelevante_verdadeiro = 0\n",
    "    irrelevante_falso = 0\n",
    "    for i in range(len(df)):\n",
    "        if (df.loc[i, \"performance\"] == 2 and df.loc[i, \"Unnamed: 1\"] == 2):\n",
    "            relevante_verdadeiro += 1\n",
    "        elif (df.loc[i, \"performance\"] == 2 and df.loc[i, \"Unnamed: 1\"] != 2):\n",
    "            relevante_falso += 1\n",
    "        elif (df.loc[i, \"performance\"] == 1 and df.loc[i, \"Unnamed: 1\"] == 1):\n",
    "            pouco_relevante_verdadeiro += 1\n",
    "        elif (df.loc[i, \"performance\"] == 1 and df.loc[i, \"Unnamed: 1\"] != 1):\n",
    "            pouco_relevante_falso += 1\n",
    "        elif (df.loc[i, \"performance\"] == 0 and df.loc[i, \"Unnamed: 1\"] == 0):\n",
    "            irrelevante_verdadeiro += 1\n",
    "        elif (df.loc[i, \"performance\"] == 0 and df.loc[i, \"Unnamed: 1\"] != 0):\n",
    "            irrelevante_falso += 1\n",
    "    print(\"porcentagem de relevante verdadeiro: {}\".format(relevante_verdadeiro/250))  \n",
    "    print(\"porcentagem de relevante falso: {}\".format(relevante_falso/250))  \n",
    "    print(\"porcentagem de pouco relevante verdadeiro: {}\".format(pouco_relevante_verdadeiro/250))  \n",
    "    print(\"porcentagem de pouco relevante falso: {}\".format(pouco_relevante_falso/250))  \n",
    "    print(\"porcentagem de irrelevante verdadeiro: {}\".format(irrelevante_verdadeiro/250))  \n",
    "    print(\"porcentagem de irrelevante falso: {}\".format(irrelevante_falso/250))\n",
    "    \n",
    "    acertos = [relevante_verdadeiro, pouco_relevante_verdadeiro, irrelevante_verdadeiro]\n",
    "    print(\"A porcentagem de acerto de nosso algoritimo é de {0}%\".format(sum(acertos)/2.5))\n",
    "        "
   ]
  },
  {
   "cell_type": "code",
   "execution_count": 45,
   "metadata": {},
   "outputs": [
    {
     "name": "stdout",
     "output_type": "stream",
     "text": [
      "porcentagem de relevante verdadeiro: 0.092\n",
      "porcentagem de relevante falso: 0.216\n",
      "porcentagem de pouco relevante verdadeiro: 0.248\n",
      "porcentagem de pouco relevante falso: 0.136\n",
      "porcentagem de irrelevante verdadeiro: 0.196\n",
      "porcentagem de irrelevante falso: 0.108\n",
      "A porcentagem de acerto de nosso algoritimo é de 53.6%\n"
     ]
    }
   ],
   "source": [
    "get_performance(teste)"
   ]
  },
  {
   "cell_type": "code",
   "execution_count": 46,
   "metadata": {},
   "outputs": [
    {
     "name": "stdout",
     "output_type": "stream",
     "text": [
      "Analisando a performance do classificador apenas diferenciando relevante e irrelevante,a porcentagem de acertos (relevante verdadeiro e irrelevante verdadeiro) foi de: 70.4%\n"
     ]
    }
   ],
   "source": [
    "def saber_se_tem_algum_grau_de_relevancia(df):\n",
    "    soma = 0\n",
    "    for i in range(len(df)):\n",
    "        if (df.loc[i, \"performance\"] != 0 and df.loc[i, \"Unnamed: 1\"] != 0):\n",
    "            soma += 1\n",
    "        if (df.loc[i, \"performance\"] == 0 and df.loc[i, \"Unnamed: 1\"] == 0):\n",
    "            soma += 1\n",
    "    return(soma / 2.5)\n",
    "t2=saber_se_tem_algum_grau_de_relevancia(teste)\n",
    "print('Analisando a performance do classificador apenas diferenciando relevante e irrelevante,'\n",
    "      'a porcentagem de acertos (relevante verdadeiro e irrelevante verdadeiro) foi de: {0}%'.format(t2))"
   ]
  },
  {
   "cell_type": "markdown",
   "metadata": {},
   "source": [
    "___\n",
    "# Concluindo:"
   ]
  },
  {
   "cell_type": "markdown",
   "metadata": {},
   "source": [
    "Comparando a classificação de relevância feita pelo grupo com a feita pelo classificador pode-se classificar os tweets em 6 grupos diferentes: relevante, pouco relevante e irrelevante, tendo cada categoria dois grupos: verdadeiro e falso. Analisando o percentual de cada grupo vê-se que o classificador foi eficiente com relação à diferenciação de tweets relevantes e irrelevante, sendo essa de 70% de acerto. No entanto, ao separar os tweets relevantes em relevantes e pouco relevantes, a performance caiu para 50%. Analisando mais a fundo, o número de relevantes falsos foi consideravelmente maior que o de relevantes verdadeiros, isso porque as categorias relevantes e pouco relevantes apresentam muitas palavras em comum: como apple, iphone, appleevent, deixando a probabilidade de ser relevante e pouco relevante, dado um tweet com tais palavras, muito próximas. Ou seja, os tweets relevantes não possuem uma característica própria muito presente, diminuindo a performance do classificador.\n",
    "\n",
    "Além disso, devido à proximidade entre o evento de lançamento da apple e o download dos tweets, esse teve grande foco nos comentários obtidos o que talvez tenha limitado o classificador. Dessa forma, acredita-se que se for gerada uma nova base de dados posteriormente, o classificador poderá aumentar sua performance."
   ]
  },
  {
   "cell_type": "markdown",
   "metadata": {},
   "source": [
    "## Dupla negação e sarcasmo:"
   ]
  },
  {
   "cell_type": "markdown",
   "metadata": {},
   "source": [
    "Como o classificador desenvolvido apenas separa os tweets em relevantes e irrelevantes, sem se importar se o conteúdo é uma crítica ou elogio, mensagens sarcásticas acabam não apresentando problemas já que,  sendo o significado destas o oposto do que estão escritas ou não, a mensagem contínua sendo uma crítica ou um elogio, possuindo relevância. Já a dupla negação não se relaciona tão forte com a relevância da mensagem, uma mensagem desse tipo pode tanto ser relevante como pouco relevante ou até irrelevante, não influenciando muito no treinamento do classificador."
   ]
  },
  {
   "cell_type": "markdown",
   "metadata": {},
   "source": [
    "## Plano de expansão:"
   ]
  },
  {
   "cell_type": "markdown",
   "metadata": {},
   "source": [
    "A Apple é uma empresa de suma importância no mundo atual, sendo grande destaque nas redes sociais, assim, um algoritmo como o criado acima é fundamental para o planejamento de marketing, uma vez que filtra e mostra críticas e elogios relevantes à multinacional, sendo do interesse dos investidores dar atenção ao porjeto desenvolvido e financiar a sua continuação. Como propostas futuras, considera-se diferenciar os tweets relevantes em positivos e negativos com o objetivo de separar críticas e elogios, além de criar uma categoria apenas para o evento da apple, já que se apresentou muito presente na base de dados coletada. "
   ]
  },
  {
   "cell_type": "markdown",
   "metadata": {},
   "source": [
    "# Aperfeiçoamento:\n",
    "\n",
    "Os trabalhos vão evoluir em conceito dependendo da quantidade de itens avançados:\n",
    "\n",
    "* Limpar: \\n, :, \", ', (, ), etc SEM remover emojis\n",
    "* Corrigir separação de espaços entre palavras e emojis ou emojis e emojis\n",
    "* Propor outras limpezas e transformações que não afetem a qualidade da informação ou classificação\n",
    "* Criar categorias intermediárias de relevância baseadas na probabilidade: ex.: muito relevante, relevante, neutro, irrelevante, muito irrelevante (3 categorias: C, mais categorias conta para B)\n",
    "* Explicar por que não posso usar o próprio classificador para gerar mais amostras de treinamento\n",
    "* Propor diferentes cenários para Naïve Bayes fora do contexto do projeto\n",
    "* Sugerir e explicar melhorias reais com indicações concretas de como implementar (indicar como fazer e indicar material de pesquisa)\n",
    "* Montar um dashboard que periodicamente realiza análise de sentimento e visualiza estes dados"
   ]
  },
  {
   "cell_type": "markdown",
   "metadata": {},
   "source": [
    "## Porque não podemos usar nosso classificador para gerar mais amostras de treinamento"
   ]
  },
  {
   "cell_type": "markdown",
   "metadata": {},
   "source": [
    "Não podemos usar nosso classificador para gerar mais amostras de treinamento porque ele aprende a classificar com um input externo, que nesse caso é a informação que passamos a ele. Se o input para ele aprender for gerado por ele mesmo, ele só ficaria concordando com si mesmo, e não haveria aprendizado."
   ]
  },
  {
   "cell_type": "markdown",
   "metadata": {},
   "source": [
    "## Diferentes cenários para Naive-bayes"
   ]
  },
  {
   "cell_type": "markdown",
   "metadata": {},
   "source": [
    "Frequentemente aplicado em processamento de linguagem natural e diagnósticos médicos, o método pode ser usado quando os atributos que descrevem as instâncias forem condicionalmente independentes. Ou seja, o teorema de Bayes trata sobre probabilidade condicional. Isto é, qual a probabilidade de o evento A ocorrer, dado o evento B. É usado também em previsões em tempo real pois possui uma velocidade relativamente alta e precisa apenas de poucos dados para realizar a classificação. Outros casos mais específicos do uso seriam classificação de um e-mail como SPAM ou Não-SPAM e cálculo de probabilidades em cima de diagnóstico de doenças."
   ]
  },
  {
   "cell_type": "code",
   "execution_count": null,
   "metadata": {},
   "outputs": [],
   "source": []
  },
  {
   "cell_type": "code",
   "execution_count": null,
   "metadata": {},
   "outputs": [],
   "source": []
  },
  {
   "cell_type": "markdown",
   "metadata": {},
   "source": [
    "# Referências"
   ]
  },
  {
   "cell_type": "markdown",
   "metadata": {},
   "source": [
    "[Naive Bayes and Text Classification](https://arxiv.org/pdf/1410.5329.pdf)  **Mais completo**\n",
    "\n",
    "[A practical explanation of a Naive Bayes Classifier](https://monkeylearn.com/blog/practical-explanation-naive-bayes-classifier/) **Mais simples**"
   ]
  },
  {
   "cell_type": "code",
   "execution_count": null,
   "metadata": {},
   "outputs": [],
   "source": []
  }
 ],
 "metadata": {
  "kernelspec": {
   "display_name": "Python 3",
   "language": "python",
   "name": "python3"
  },
  "language_info": {
   "codemirror_mode": {
    "name": "ipython",
    "version": 3
   },
   "file_extension": ".py",
   "mimetype": "text/x-python",
   "name": "python",
   "nbconvert_exporter": "python",
   "pygments_lexer": "ipython3",
   "version": "3.7.1"
  }
 },
 "nbformat": 4,
 "nbformat_minor": 4
}
